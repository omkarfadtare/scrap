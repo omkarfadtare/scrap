{
 "cells": [
  {
   "cell_type": "markdown",
   "id": "a467fe53",
   "metadata": {},
   "source": [
    "### Guido van Rossum: creator of Python programming language."
   ]
  },
  {
   "cell_type": "markdown",
   "id": "87d3cddb",
   "metadata": {},
   "source": [
    "#### Shortkeys- (https://github.com/omkarfadtare/CheatSheets.git)\n",
    "\n",
    "ctrl+a, ctrl+c, ctrl+v: select all, copy, paste\n",
    "\n",
    "esc+z, esc+a: undo, redo\n",
    "\n",
    "alt+enter: run cell and enter below\n",
    "\n",
    "ctrl+enter: run the cell\n",
    "\n",
    "esc+a: insert cell above\n",
    "\n",
    "esc+b: insert cell below\n",
    "\n",
    "esc+y: change cell to code\n",
    "\n",
    "esc+m: change cell to markdown"
   ]
  },
  {
   "cell_type": "markdown",
   "id": "0cb60792",
   "metadata": {},
   "source": [
    "#### Comments"
   ]
  },
  {
   "cell_type": "code",
   "execution_count": 26,
   "id": "a38f15fb",
   "metadata": {},
   "outputs": [],
   "source": [
    "# Comment- '#' Key- (ctrl+?/)\n",
    "\n",
    "# Comments are the lines in the code that are ignored by the compiler/interpreter during the execution of the program/code.\n",
    "# we use comments or markdown for the better understanding of our code.\n",
    "\n",
    "# In a professional way it is used to add below details to the code:\n",
    "# to add name of project-\n",
    "# to add developer name-\n",
    "# to add date of start-\n",
    "# to add purpose-\n",
    "# to additional requirements-\n",
    "# to date of end-\n",
    "\n",
    "# There are two ways to use comments-\n",
    "\n",
    "# Single line comment: use # key\n",
    "\n",
    "# Multi-line comments: select the number of lines you want as comments and press(ctrl+?/)\n",
    "# There is also another way for multi-line comments (You can use single single quote or double quote as well)\n",
    "# For example-\n",
    "# '''\n",
    "\n",
    "# '''"
   ]
  },
  {
   "cell_type": "markdown",
   "id": "0fba718a",
   "metadata": {},
   "source": [
    "#### Indentation"
   ]
  },
  {
   "cell_type": "code",
   "execution_count": 27,
   "id": "c090e97f",
   "metadata": {},
   "outputs": [],
   "source": [
    "# Indentation refers to the spaces at the beginning of a code line. \n",
    "# To understand interpreter the block of code for a specific function."
   ]
  },
  {
   "cell_type": "code",
   "execution_count": 28,
   "id": "554f2dd0",
   "metadata": {},
   "outputs": [
    {
     "data": {
      "text/plain": [
       "40"
      ]
     },
     "execution_count": 28,
     "metadata": {},
     "output_type": "execute_result"
    }
   ],
   "source": [
    "def addition(a,b):\n",
    "    addition = a + b\n",
    "    return addition\n",
    "addition(10,30)"
   ]
  },
  {
   "cell_type": "markdown",
   "id": "f4aac85c",
   "metadata": {},
   "source": [
    "#### Printing methods of a string"
   ]
  },
  {
   "cell_type": "code",
   "execution_count": 30,
   "id": "08e16efc",
   "metadata": {},
   "outputs": [
    {
     "name": "stdout",
     "output_type": "stream",
     "text": [
      "Addition of 40 and 20 is 60\n"
     ]
    }
   ],
   "source": [
    "# 1) f' string-\n",
    "\n",
    "a = 40\n",
    "b = 20\n",
    "add = a + b\n",
    "print(f'Addition of {a} and {b} is {add}')"
   ]
  },
  {
   "cell_type": "code",
   "execution_count": 31,
   "id": "094d8ad1",
   "metadata": {},
   "outputs": [
    {
     "name": "stdout",
     "output_type": "stream",
     "text": [
      "Addition of 40 and 20 is 60\n"
     ]
    }
   ],
   "source": [
    "# 2) format string-\n",
    "\n",
    "a = 40\n",
    "b = 20\n",
    "add = a + b\n",
    "print('Addition of {} and {} is {}'.format(a,b,add))"
   ]
  },
  {
   "cell_type": "code",
   "execution_count": 32,
   "id": "bf1fe632",
   "metadata": {},
   "outputs": [
    {
     "name": "stdout",
     "output_type": "stream",
     "text": [
      "Addition of 40 and 20 is 60\n"
     ]
    }
   ],
   "source": [
    "print('Addition of {0} and {1} is {2}'.format(a,b,add))"
   ]
  },
  {
   "cell_type": "markdown",
   "id": "00e70191",
   "metadata": {},
   "source": [
    "#### Variables\n",
    "Variables are something which stores data."
   ]
  },
  {
   "cell_type": "code",
   "execution_count": 33,
   "id": "ed8bbce6",
   "metadata": {},
   "outputs": [],
   "source": [
    "# Things to remember while using variables names:\n",
    "# 1) meaningful name should be given as variable's name.\n",
    "# 2) predefined keywords should not be used as variable's name.\n",
    "# 3) variable's name should not start with numbers.\n",
    "# 4) uppercase characters, lowercase characters, under-score, using numbers in between the variable name is OK.\n",
    "# 5) variable's name should not contain special characters.\n",
    "# 6) variable's name should not contain spaces."
   ]
  },
  {
   "cell_type": "code",
   "execution_count": 34,
   "id": "3378e223",
   "metadata": {},
   "outputs": [
    {
     "name": "stdout",
     "output_type": "stream",
     "text": [
      "\n",
      "Here is a list of the Python keywords.  Enter any keyword to get more help.\n",
      "\n",
      "False               class               from                or\n",
      "None                continue            global              pass\n",
      "True                def                 if                  raise\n",
      "and                 del                 import              return\n",
      "as                  elif                in                  try\n",
      "assert              else                is                  while\n",
      "async               except              lambda              with\n",
      "await               finally             nonlocal            yield\n",
      "break               for                 not                 \n",
      "\n"
     ]
    }
   ],
   "source": [
    "# Pre-defined keywords in python-\n",
    "\n",
    "help('keywords')"
   ]
  },
  {
   "cell_type": "markdown",
   "id": "1586e33c",
   "metadata": {},
   "source": [
    "#### Types of variables"
   ]
  },
  {
   "cell_type": "code",
   "execution_count": 1,
   "id": "77817cd4",
   "metadata": {},
   "outputs": [],
   "source": [
    "# 1) Global Variables : Variables which are defined outside the function, Can be used throughout the main program and user defined function as well.\n",
    "# 2) Local Variables : Variables which are defined inside the function, Can only be used within user defined function only."
   ]
  },
  {
   "cell_type": "code",
   "execution_count": 2,
   "id": "a37ff598",
   "metadata": {},
   "outputs": [
    {
     "name": "stdout",
     "output_type": "stream",
     "text": [
      "Inside user defined function 20\n",
      "Outside user defined function 20\n"
     ]
    }
   ],
   "source": [
    "a = 20 # Global variable (Can be used throughout the main program and user defined function as well)\n",
    "def display():\n",
    "    print('Inside user defined function', a)\n",
    "display()\n",
    "\n",
    "print('Outside user defined function', a)"
   ]
  },
  {
   "cell_type": "code",
   "execution_count": 3,
   "id": "f7674dfd",
   "metadata": {},
   "outputs": [
    {
     "name": "stdout",
     "output_type": "stream",
     "text": [
      "Inside user defined function 20\n",
      "Local variable 30\n",
      "Outside user defined function 20\n"
     ]
    }
   ],
   "source": [
    "a = 20 # Global variable (Can be used throughout the main program and user defined function as well)\n",
    "def display():\n",
    "    b = 30 # Local variable (Can only be used within user defined function only)\n",
    "    print('Inside user defined function', a)\n",
    "    print('Local variable', b)\n",
    "display()\n",
    "\n",
    "print('Outside user defined function', a)\n",
    "# print('Local variable', b) -> this will raise an error since b is not a global variable."
   ]
  },
  {
   "cell_type": "code",
   "execution_count": 4,
   "id": "c681cca2",
   "metadata": {},
   "outputs": [
    {
     "name": "stdout",
     "output_type": "stream",
     "text": [
      "global 10\n",
      "local 20\n",
      "local 40\n",
      "global 10\n"
     ]
    }
   ],
   "source": [
    "a = 10\n",
    "def display():\n",
    "    b = 20\n",
    "    print('global',a)\n",
    "    print('local',b)\n",
    "display()\n",
    "c = 40\n",
    "print('local',c)\n",
    "print('global',a)"
   ]
  },
  {
   "cell_type": "code",
   "execution_count": 6,
   "id": "de60918b",
   "metadata": {},
   "outputs": [
    {
     "name": "stdout",
     "output_type": "stream",
     "text": [
      "20\n",
      "local 40\n",
      "global 10\n"
     ]
    }
   ],
   "source": [
    "a = 10\n",
    "def display():\n",
    "    a = 20 \n",
    "    print(a) # a will be printed as 20, because if local and global variables have same name, first preference will be given to local variable.\n",
    "display()\n",
    "c = 40\n",
    "print('local',c)\n",
    "print('global',a)"
   ]
  },
  {
   "cell_type": "code",
   "execution_count": 7,
   "id": "1831f2c6",
   "metadata": {},
   "outputs": [
    {
     "name": "stdout",
     "output_type": "stream",
     "text": [
      "20\n",
      "40\n",
      "60\n"
     ]
    }
   ],
   "source": [
    "a = 10 \n",
    "c = 20\n",
    "def display():\n",
    "    a = 20 # # Values defined within the function will be limited to that function only.\n",
    "    print(a)\n",
    "display()\n",
    "a = 40 # Latest value of a is considered \n",
    "print(a)\n",
    "d = a+c # 40+20 both local variables\n",
    "print(d)"
   ]
  },
  {
   "cell_type": "code",
   "execution_count": 8,
   "id": "0e415884",
   "metadata": {},
   "outputs": [
    {
     "name": "stdout",
     "output_type": "stream",
     "text": [
      "20\n",
      "10\n"
     ]
    }
   ],
   "source": [
    "# We can make a local variable to act as a global variable using below method\n",
    "\n",
    "def multiplication():\n",
    "    global a\n",
    "    a = 10\n",
    "    z = 2\n",
    "    multiplication = a*z\n",
    "    print(multiplication)\n",
    "multiplication() # output will be 20 since both 'a' and 'b' acted as a local variable\n",
    "\n",
    "# To cross check whether a is working as a global variable also\n",
    "print(a) # Yup! It works\n",
    "# print(z) # Nope! It wont acting as a global variable since we didnt make it globle variable."
   ]
  },
  {
   "cell_type": "markdown",
   "id": "b0d71258",
   "metadata": {},
   "source": [
    "#### DataTypes"
   ]
  },
  {
   "cell_type": "code",
   "execution_count": 9,
   "id": "3ad12bed",
   "metadata": {},
   "outputs": [],
   "source": [
    "# There are mainly 4 datatypes\n",
    "# 1) String (str)- \"Omkar\"\n",
    "# 2) Integer (int)- 10,2,23,4\n",
    "# 3) Float (float)- 10.2,23.2,4.5,4.0\n",
    "# 4) Complex numbers (complex)- 2+3j, 10+ 4j (0)\n",
    "# 5) Boolean datatype (bool)- True, False"
   ]
  },
  {
   "cell_type": "code",
   "execution_count": 10,
   "id": "265a68be",
   "metadata": {},
   "outputs": [],
   "source": [
    "# Doubt??\n",
    "# Why 'j' instead of 'i'?\n",
    "# reason- This 'i' letter convesion is already used\n",
    "# 1) In electrical, the leter i is used to denote current.\n",
    "# 2) In computing, the letter i is often used for the indexing variable in loops.\n",
    "# 3) The letter i can be easily confused with l or 1 in source code."
   ]
  },
  {
   "cell_type": "code",
   "execution_count": 11,
   "id": "219b69cd",
   "metadata": {},
   "outputs": [
    {
     "data": {
      "text/plain": [
       "str"
      ]
     },
     "execution_count": 11,
     "metadata": {},
     "output_type": "execute_result"
    }
   ],
   "source": [
    "# String\n",
    "\n",
    "a = \"Omkar\"\n",
    "type(a)"
   ]
  },
  {
   "cell_type": "code",
   "execution_count": 12,
   "id": "bf52421d",
   "metadata": {},
   "outputs": [
    {
     "data": {
      "text/plain": [
       "int"
      ]
     },
     "execution_count": 12,
     "metadata": {},
     "output_type": "execute_result"
    }
   ],
   "source": [
    "# Integer\n",
    "\n",
    "b = 10\n",
    "type(b)"
   ]
  },
  {
   "cell_type": "code",
   "execution_count": 13,
   "id": "2d81f165",
   "metadata": {},
   "outputs": [
    {
     "data": {
      "text/plain": [
       "float"
      ]
     },
     "execution_count": 13,
     "metadata": {},
     "output_type": "execute_result"
    }
   ],
   "source": [
    "# Float\n",
    "\n",
    "c = 10.2\n",
    "type(c)"
   ]
  },
  {
   "cell_type": "code",
   "execution_count": 14,
   "id": "54901348",
   "metadata": {},
   "outputs": [
    {
     "data": {
      "text/plain": [
       "complex"
      ]
     },
     "execution_count": 14,
     "metadata": {},
     "output_type": "execute_result"
    }
   ],
   "source": [
    "# Complex number\n",
    "\n",
    "d = 2+3j\n",
    "type(d)"
   ]
  },
  {
   "cell_type": "code",
   "execution_count": 15,
   "id": "9eddf7d5",
   "metadata": {},
   "outputs": [
    {
     "data": {
      "text/plain": [
       "bool"
      ]
     },
     "execution_count": 15,
     "metadata": {},
     "output_type": "execute_result"
    }
   ],
   "source": [
    "# Boolean\n",
    "\n",
    "e = True\n",
    "type(e)"
   ]
  },
  {
   "cell_type": "markdown",
   "id": "745961d5",
   "metadata": {},
   "source": [
    "#### Typecasting\n",
    "refers to changing the datatype of variables."
   ]
  },
  {
   "cell_type": "code",
   "execution_count": 16,
   "id": "96e84dd4",
   "metadata": {},
   "outputs": [
    {
     "data": {
      "text/plain": [
       "int"
      ]
     },
     "execution_count": 16,
     "metadata": {},
     "output_type": "execute_result"
    }
   ],
   "source": [
    "# int to float and string\n",
    "\n",
    "var_int = 10\n",
    "type(var_int)"
   ]
  },
  {
   "cell_type": "code",
   "execution_count": 17,
   "id": "e7dd28f6",
   "metadata": {},
   "outputs": [
    {
     "data": {
      "text/plain": [
       "float"
      ]
     },
     "execution_count": 17,
     "metadata": {},
     "output_type": "execute_result"
    }
   ],
   "source": [
    "var_float = float(var_int)\n",
    "type(var_float)"
   ]
  },
  {
   "cell_type": "code",
   "execution_count": 18,
   "id": "4c7e83bd",
   "metadata": {},
   "outputs": [
    {
     "data": {
      "text/plain": [
       "str"
      ]
     },
     "execution_count": 18,
     "metadata": {},
     "output_type": "execute_result"
    }
   ],
   "source": [
    "var_str = str(var_int)\n",
    "type(var_str)"
   ]
  },
  {
   "cell_type": "code",
   "execution_count": 19,
   "id": "d4c5e92b",
   "metadata": {},
   "outputs": [
    {
     "data": {
      "text/plain": [
       "float"
      ]
     },
     "execution_count": 19,
     "metadata": {},
     "output_type": "execute_result"
    }
   ],
   "source": [
    "# float to int and string \n",
    "\n",
    "var_float = 10.999 \n",
    "type(var_float)"
   ]
  },
  {
   "cell_type": "code",
   "execution_count": 20,
   "id": "ff749720",
   "metadata": {},
   "outputs": [
    {
     "name": "stdout",
     "output_type": "stream",
     "text": [
      "10\n"
     ]
    },
    {
     "data": {
      "text/plain": [
       "int"
      ]
     },
     "execution_count": 20,
     "metadata": {},
     "output_type": "execute_result"
    }
   ],
   "source": [
    "var_int = int(var_float) # (If we are try to convert float to int type then it will only take the whole number value.)\n",
    "print(var_int)\n",
    "type(var_int)"
   ]
  },
  {
   "cell_type": "code",
   "execution_count": 21,
   "id": "dcfd5a38",
   "metadata": {},
   "outputs": [
    {
     "data": {
      "text/plain": [
       "str"
      ]
     },
     "execution_count": 21,
     "metadata": {},
     "output_type": "execute_result"
    }
   ],
   "source": [
    "var_str = str(var_float)\n",
    "type(var_str)"
   ]
  },
  {
   "cell_type": "code",
   "execution_count": 22,
   "id": "81e26366",
   "metadata": {},
   "outputs": [
    {
     "data": {
      "text/plain": [
       "str"
      ]
     },
     "execution_count": 22,
     "metadata": {},
     "output_type": "execute_result"
    }
   ],
   "source": [
    "# string to integer and float\n",
    "\n",
    "var_str = \"10\"\n",
    "type(var_str)"
   ]
  },
  {
   "cell_type": "code",
   "execution_count": 23,
   "id": "6bdef696",
   "metadata": {},
   "outputs": [
    {
     "name": "stdout",
     "output_type": "stream",
     "text": [
      "10\n"
     ]
    },
    {
     "data": {
      "text/plain": [
       "int"
      ]
     },
     "execution_count": 23,
     "metadata": {},
     "output_type": "execute_result"
    }
   ],
   "source": [
    "var_int = int(var_str)\n",
    "print(var_str)\n",
    "type(var_int)"
   ]
  },
  {
   "cell_type": "code",
   "execution_count": 24,
   "id": "37515a9b",
   "metadata": {},
   "outputs": [
    {
     "name": "stdout",
     "output_type": "stream",
     "text": [
      "10.0\n"
     ]
    },
    {
     "data": {
      "text/plain": [
       "float"
      ]
     },
     "execution_count": 24,
     "metadata": {},
     "output_type": "execute_result"
    }
   ],
   "source": [
    "var_float = float(var_str)\n",
    "print(var_float)\n",
    "type(var_float)"
   ]
  },
  {
   "cell_type": "code",
   "execution_count": 25,
   "id": "134883a3",
   "metadata": {},
   "outputs": [],
   "source": [
    "# Things to remember-\n",
    "\n",
    "# 1) while converting string to integer and float type, it will only gets converted if we have integer as a string initially.\n",
    "# 2) if we use string as a word then it will not get converted to integer and float type.\n",
    "# 3) if we have a decimal integer as a string, it will get converted to float type but but not into integer type directly we have to convert it into float type and then into integer type."
   ]
  }
 ],
 "metadata": {
  "kernelspec": {
   "display_name": "Python 3",
   "language": "python",
   "name": "python3"
  },
  "language_info": {
   "codemirror_mode": {
    "name": "ipython",
    "version": 3
   },
   "file_extension": ".py",
   "mimetype": "text/x-python",
   "name": "python",
   "nbconvert_exporter": "python",
   "pygments_lexer": "ipython3",
   "version": "3.8.8"
  }
 },
 "nbformat": 4,
 "nbformat_minor": 5
}
